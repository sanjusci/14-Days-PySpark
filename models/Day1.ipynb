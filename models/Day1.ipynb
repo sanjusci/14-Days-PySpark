{
 "cells": [
  {
   "metadata": {},
   "cell_type": "markdown",
   "source": "- ✅ Tasks: Run Spark locally, Explore SparkSession, Hello World.",
   "id": "c04bfb1e36273b1"
  },
  {
   "cell_type": "code",
   "id": "initial_id",
   "metadata": {
    "collapsed": true,
    "ExecuteTime": {
     "end_time": "2025-08-21T19:04:23.001934Z",
     "start_time": "2025-08-21T19:04:20.253820Z"
    }
   },
   "source": [
    "from pyspark.sql import SparkSession\n",
    "\n",
    "# Create Spark Session\n",
    "spark = SparkSession.builder \\\n",
    "    .appName(\"HelloWorld\") \\\n",
    "    .getOrCreate()\n",
    "# Show Spark configs\n",
    "print(\"Application name:\", spark.sparkContext.appName)\n",
    "print(\"Master URL:\", spark.sparkContext.master)\n",
    "print(\"Spark UI Web URL:\", spark.sparkContext.uiWebUrl)\n",
    "print(spark.version)\n",
    "data = [(\"Alice\", 25), (\"Bob\", 30), (\"Cathy\", 29)]\n",
    "df = spark.createDataFrame(data, [\"Name\", \"Age\"])\n",
    "df.show()\n",
    "# Stop Spark Session\n",
    "spark.stop()"
   ],
   "outputs": [
    {
     "name": "stdout",
     "output_type": "stream",
     "text": [
      "Application name: HelloWorld\n",
      "Master URL: local[*]\n",
      "Spark UI Web URL: http://10.184.32.109:4040\n",
      "3.5.1\n"
     ]
    },
    {
     "name": "stderr",
     "output_type": "stream",
     "text": [
      "                                                                                \r"
     ]
    },
    {
     "name": "stdout",
     "output_type": "stream",
     "text": [
      "+-----+---+\n",
      "| Name|Age|\n",
      "+-----+---+\n",
      "|Alice| 25|\n",
      "|  Bob| 30|\n",
      "|Cathy| 29|\n",
      "+-----+---+\n",
      "\n"
     ]
    }
   ],
   "execution_count": 11
  }
 ],
 "metadata": {
  "kernelspec": {
   "display_name": "Python 3",
   "language": "python",
   "name": "python3"
  },
  "language_info": {
   "codemirror_mode": {
    "name": "ipython",
    "version": 2
   },
   "file_extension": ".py",
   "mimetype": "text/x-python",
   "name": "python",
   "nbconvert_exporter": "python",
   "pygments_lexer": "ipython2",
   "version": "2.7.6"
  }
 },
 "nbformat": 4,
 "nbformat_minor": 5
}
