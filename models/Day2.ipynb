{
 "cells": [
  {
   "metadata": {},
   "cell_type": "markdown",
   "source": "RDD Basics: ✅ Tasks: Word count example",
   "id": "c04bfb1e36273b1"
  },
  {
   "cell_type": "code",
   "id": "initial_id",
   "metadata": {
    "collapsed": true,
    "ExecuteTime": {
     "end_time": "2025-08-22T18:25:16.399757Z",
     "start_time": "2025-08-22T18:25:16.337727Z"
    }
   },
   "source": [
    "from pyspark.sql import SparkSession\n",
    "\n",
    "# Create Spark Session\n",
    "spark = SparkSession.builder \\\n",
    "    .appName(\"HelloWorld\") \\\n",
    "    .getOrCreate()\n",
    "# Example 1 – Creating an RDD\n",
    "# Create RDD from a Python list\n",
    "data = [1, 2, 3, 4, 5]\n",
    "rdd = spark.sparkContext.parallelize(data)\n",
    "print(\"RDD from Python list:\", rdd.collect())\n"
   ],
   "outputs": [
    {
     "name": "stdout",
     "output_type": "stream",
     "text": [
      "RDD from Python list: [1, 2, 3, 4, 5]\n"
     ]
    }
   ],
   "execution_count": 11
  },
  {
   "metadata": {},
   "cell_type": "markdown",
   "source": "⚡ Example 2 – Transformations & Actions",
   "id": "c454501b5ec081d"
  },
  {
   "metadata": {
    "ExecuteTime": {
     "end_time": "2025-08-22T18:25:19.325058Z",
     "start_time": "2025-08-22T18:25:19.010285Z"
    }
   },
   "cell_type": "code",
   "source": [
    "# Transformation: square each number\n",
    "squared = rdd.map(lambda x: x * x)\n",
    "\n",
    "# Action: collect results\n",
    "print(\"Squared:\", squared.collect())"
   ],
   "id": "f417c197f217940a",
   "outputs": [
    {
     "name": "stdout",
     "output_type": "stream",
     "text": [
      "Squared: [1, 4, 9, 16, 25]\n"
     ]
    }
   ],
   "execution_count": 12
  },
  {
   "metadata": {},
   "cell_type": "markdown",
   "source": "⚡ Example 3 – Filter Example",
   "id": "efe78bad4dc38adb"
  },
  {
   "metadata": {
    "ExecuteTime": {
     "end_time": "2025-08-22T18:21:47.428044Z",
     "start_time": "2025-08-22T18:21:47.065308Z"
    }
   },
   "cell_type": "code",
   "source": [
    "evens = rdd.filter(lambda x: x % 2 == 0)\n",
    "print(\"Even Numbers:\", evens.collect())"
   ],
   "id": "e65f0d77a678786f",
   "outputs": [
    {
     "name": "stdout",
     "output_type": "stream",
     "text": [
      "Even Numbers: [2, 4]\n"
     ]
    }
   ],
   "execution_count": 4
  },
  {
   "metadata": {},
   "cell_type": "markdown",
   "source": "⚡ Example 4 – Word Count (Classic Example) Map and Reduce",
   "id": "ad863b037e047157"
  },
  {
   "metadata": {
    "ExecuteTime": {
     "end_time": "2025-08-22T18:24:15.400255Z",
     "start_time": "2025-08-22T18:24:14.446083Z"
    }
   },
   "cell_type": "code",
   "source": [
    "# Sample text\n",
    "text = [\"hello world\", \"hello spark\", \"pyspark rdd example\"]\n",
    "\n",
    "# Create RDD\n",
    "rdd = spark.sparkContext.parallelize(text)\n",
    "\n",
    "# Split into words\n",
    "words = rdd.flatMap(lambda line: line.split(\" \"))\n",
    "print(\"Words:\", words.collect())\n",
    "# Count words\n",
    "word_counts = words.map(lambda word: (word, 1)).reduceByKey(lambda a, b: a + b)\n",
    "\n",
    "print(\"Word Counts:\", word_counts.collect())\n"
   ],
   "id": "73cee8aaaa65780e",
   "outputs": [
    {
     "name": "stdout",
     "output_type": "stream",
     "text": [
      "Words: ['hello', 'world', 'hello', 'spark', 'pyspark', 'rdd', 'example']\n",
      "Word Counts: [('world', 1), ('spark', 1), ('pyspark', 1), ('example', 1), ('hello', 2), ('rdd', 1)]\n"
     ]
    }
   ],
   "execution_count": 8
  }
 ],
 "metadata": {
  "kernelspec": {
   "display_name": "Python 3",
   "language": "python",
   "name": "python3"
  },
  "language_info": {
   "codemirror_mode": {
    "name": "ipython",
    "version": 2
   },
   "file_extension": ".py",
   "mimetype": "text/x-python",
   "name": "python",
   "nbconvert_exporter": "python",
   "pygments_lexer": "ipython2",
   "version": "2.7.6"
  }
 },
 "nbformat": 4,
 "nbformat_minor": 5
}
